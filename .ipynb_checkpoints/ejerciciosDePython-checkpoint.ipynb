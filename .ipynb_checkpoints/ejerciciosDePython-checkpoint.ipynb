{
 "cells": [
  {
   "cell_type": "markdown",
   "id": "155365fe",
   "metadata": {},
   "source": [
    "Ejercicios de Python - Python Exercises\n"
   ]
  },
  {
   "cell_type": "markdown",
   "id": "b68dcd45",
   "metadata": {},
   "source": [
    "Ejercicio #1 Imprimir todos los digitos del 0 al 9, utilizando un bucle. Exercise #1 Print all the digits from 0 to 9 using a loop."
   ]
  },
  {
   "cell_type": "code",
   "execution_count": 1,
   "id": "92f7403d",
   "metadata": {},
   "outputs": [
    {
     "name": "stdout",
     "output_type": "stream",
     "text": [
      "0\n",
      "1\n",
      "2\n",
      "3\n",
      "4\n",
      "5\n",
      "6\n",
      "7\n",
      "8\n",
      "9\n"
     ]
    }
   ],
   "source": [
    "for i in range(0,10):\n",
    "    print(i)"
   ]
  },
  {
   "cell_type": "markdown",
   "id": "eed66ade",
   "metadata": {},
   "source": [
    "Ejercicio #2 Imprimir todos los números entre 100 y 199. Exercise #2 Print all the numbers from 100 to 199.\n"
   ]
  },
  {
   "cell_type": "code",
   "execution_count": 2,
   "id": "fac88b3a",
   "metadata": {},
   "outputs": [
    {
     "name": "stdout",
     "output_type": "stream",
     "text": [
      "195\n",
      "196\n",
      "197\n",
      "198\n",
      "199\n"
     ]
    }
   ],
   "source": [
    "for i in range(195,200):\n",
    "    print(i)"
   ]
  },
  {
   "cell_type": "markdown",
   "id": "6e996dad",
   "metadata": {},
   "source": [
    "Ejercicio #3 Imprimir los números entre el 5 y el 20, saltando de 3 en 3. Exercise #3 Print the numbers between 5 and 20, jumping 3 by 3."
   ]
  },
  {
   "cell_type": "code",
   "execution_count": 3,
   "id": "cf56d76b",
   "metadata": {},
   "outputs": [
    {
     "name": "stdout",
     "output_type": "stream",
     "text": [
      "[5, 8, 11, 14, 17, 20]\n"
     ]
    }
   ],
   "source": [
    "numbers= list(range(5,21))\n",
    "print(numbers[::3])"
   ]
  },
  {
   "cell_type": "markdown",
   "id": "02d72d2a",
   "metadata": {},
   "source": [
    "Ejercicio #4 Requerir al usuario que ingrese un número entero positivo e imprimir todos los números consecutivos entre el ingresado por el usuario y uno menos del doble del mismo. Exercise #4 \"Ask the user to enter a positive integer and print all consecutive numbers between the number entered by the user and one less than twice the same number.\""
   ]
  },
  {
   "cell_type": "code",
   "execution_count": 4,
   "id": "4ac6eeb6",
   "metadata": {},
   "outputs": [
    {
     "name": "stdout",
     "output_type": "stream",
     "text": [
      "ingrese un número entero positivo: 4\n",
      "4\n",
      "5\n",
      "6\n",
      "7\n",
      "8\n",
      "9\n",
      "10\n",
      "11\n",
      "12\n",
      "13\n",
      "14\n",
      "15\n"
     ]
    }
   ],
   "source": [
    "number= int(input(\"ingrese un número entero positivo: \"))\n",
    "SquaredNumber= number*number\n",
    "for i in range(number,SquaredNumber):\n",
    "    print(i)\n"
   ]
  },
  {
   "cell_type": "markdown",
   "id": "d3111c55",
   "metadata": {},
   "source": [
    "Ejercicio #5 Escribir un programa que solicite al usuario una cantidad y luego itere la cantidad de veces dada. En cada iteración, solicitar al usuario que ingrese un número. Al finalizar, mostrar la suma de todos los números ingresados. "
   ]
  },
  {
   "cell_type": "code",
   "execution_count": 5,
   "id": "f47edc82",
   "metadata": {},
   "outputs": [
    {
     "name": "stdout",
     "output_type": "stream",
     "text": [
      "Ingrese el número de iteraciones que desea: 3\n",
      "Ingrese un número: 4\n",
      "Ingrese un número: 5\n",
      "Ingrese un número: 5\n",
      "14\n"
     ]
    }
   ],
   "source": [
    "iteraciones= int(input(\"Ingrese el número de iteraciones que desea: \"))\n",
    "suma=0\n",
    "for i in range(iteraciones):\n",
    "    numeroIngresado=int(input(\"Ingrese un número: \"))\n",
    "    suma= suma+numeroIngresado\n",
    "    \n",
    "print(suma)\n",
    "    "
   ]
  },
  {
   "cell_type": "markdown",
   "id": "766f092a",
   "metadata": {},
   "source": [
    "Ejercicio #6 Solcilicitar al usuario que ingrese una frase y luego imprimir un listado de las vocales que aparecen en esa frase (sin repetirlas)"
   ]
  },
  {
   "cell_type": "code",
   "execution_count": 6,
   "id": "f4ffbfb9",
   "metadata": {},
   "outputs": [
    {
     "name": "stdout",
     "output_type": "stream",
     "text": [
      "ingrese una frase: hola anton\n",
      "{'o', 'a'}\n"
     ]
    }
   ],
   "source": [
    "# Solution number 1\n",
    "frase= input (\"ingrese una frase: \")\n",
    "# Es importante unificar los caracteres en minusculas (o mayusculas) evitar doble conteos de vocales dado el caso\n",
    "fraseEnMinusculas= frase.lower()\n",
    "charactersSet=set(fraseEnMinusculas)\n",
    "vocales= \"aeiouAEIOU\"\n",
    "vocalesEnFrase= set()\n",
    "for i in vocales:\n",
    "    if i in charactersSet:\n",
    "        vocalesEnFrase.add(i)\n",
    "print (vocalesEnFrase)"
   ]
  },
  {
   "cell_type": "code",
   "execution_count": 7,
   "id": "b92a1dbe",
   "metadata": {},
   "outputs": [
    {
     "name": "stdout",
     "output_type": "stream",
     "text": [
      "ingrese una frase: hola cara mia\n",
      "['a', 'i', 'o']\n"
     ]
    }
   ],
   "source": [
    "# Solution number 2\n",
    "frase= input (\"ingrese una frase: \")\n",
    "charactersSet=set(frase)\n",
    "vocales= \"aeiouAEIOU\"\n",
    "vocalesEnFrase= []\n",
    "for i in vocales:\n",
    "    if i in charactersSet:\n",
    "        vocalesEnFrase.append(i)\n",
    "print (vocalesEnFrase)\n"
   ]
  },
  {
   "cell_type": "markdown",
   "id": "706dc486",
   "metadata": {},
   "source": [
    "Ejercicio #7 Solcitar al usuario que ingrese una frase y luego imprimir la cantidad de vocales que se encuentran en dicha frase."
   ]
  },
  {
   "cell_type": "code",
   "execution_count": 8,
   "id": "13bc19b0",
   "metadata": {},
   "outputs": [
    {
     "name": "stdout",
     "output_type": "stream",
     "text": [
      "ingrese una frase: mi casa amarilla\n",
      "7\n"
     ]
    }
   ],
   "source": [
    "frase= input (\"ingrese una frase: \")\n",
    "vocalesEnFrase= []\n",
    "vocales= \"aeiouAEIOU\"\n",
    "contador=0\n",
    "for i in frase:\n",
    "    if i in vocales:\n",
    "        contador= contador+1\n",
    "print(contador)\n",
    "\n"
   ]
  },
  {
   "cell_type": "markdown",
   "id": "4fe1fca3",
   "metadata": {},
   "source": [
    "Ejercicio #8 Escribir un programa que muestre la sumatoria de todos los números entre 0 y 100. Exercise #8 Write a program that displays the sum of all numbers between 0 and 100."
   ]
  },
  {
   "cell_type": "code",
   "execution_count": 15,
   "id": "dac3c19a",
   "metadata": {},
   "outputs": [
    {
     "name": "stdout",
     "output_type": "stream",
     "text": [
      "5050\n"
     ]
    }
   ],
   "source": [
    "suma=0\n",
    "for i in range(101):\n",
    "    suma+=i\n",
    "print(suma)"
   ]
  },
  {
   "cell_type": "markdown",
   "id": "35e9a45f",
   "metadata": {},
   "source": [
    "Ejercicio #9 Escribe un programa que muestre la sumatoria de todos los múltiplos de 3 encontrados entre el 0 y el 100. Exercise #9 Write a program that displays the sum of all multiples of 3 found between 0 and 100."
   ]
  },
  {
   "cell_type": "code",
   "execution_count": 16,
   "id": "77a4b923",
   "metadata": {
    "scrolled": true
   },
   "outputs": [
    {
     "name": "stdout",
     "output_type": "stream",
     "text": [
      "1683\n"
     ]
    }
   ],
   "source": [
    "suma=0\n",
    "for i in range (101):\n",
    "    if i%3 ==0:\n",
    "        suma+=i\n",
    "print(suma)"
   ]
  },
  {
   "cell_type": "markdown",
   "id": "03e9216c",
   "metadata": {},
   "source": [
    "Ejercicio #10 Dado un número entero positivo, mostrar su factorial.El factorial de un número se obtiene multiplicando todos los números enteros positivos que hay entre el 1 y ese número. Exercise #10 Given a positive integer, display its factorial. The factorial of a number is obtained by multiplying all positive integers between 1 and that number."
   ]
  },
  {
   "cell_type": "code",
   "execution_count": 17,
   "id": "0536da03",
   "metadata": {},
   "outputs": [
    {
     "name": "stdout",
     "output_type": "stream",
     "text": [
      "120\n"
     ]
    }
   ],
   "source": [
    "numero=5\n",
    "factorial=1\n",
    "for i in range (1,numero):\n",
    "    factorial=factorial*(i+1)\n",
    "    \n",
    "print(factorial)\n",
    "    \n",
    "    "
   ]
  },
  {
   "cell_type": "markdown",
   "id": "9e81ab72",
   "metadata": {},
   "source": [
    "Ejercicio #11 Escribe un algoritmo que muestre los primeros 10 números de la sucesión de Fibonacci. La  sucesión comienza con los números 0 y 1 y a partir de estos cada elemento es la suma de los dos números anteriores en la sucesción 0,1,,1,2,3,5,8,13,21. Exercise #12 \"Write an algorithm that displays the first 10 numbers of the Fibonacci sequence. The sequence starts with the numbers 0 and 1, and from these, each element is the sum of the two previous numbers in the sequence: 0, 1, 1, 2, 3, 5, 8, 13, 21.\""
   ]
  },
  {
   "cell_type": "code",
   "execution_count": 19,
   "id": "dcabf863",
   "metadata": {},
   "outputs": [
    {
     "name": "stdout",
     "output_type": "stream",
     "text": [
      "[0, 1, 1, 2, 3, 5, 8, 13, 21, 34]\n"
     ]
    }
   ],
   "source": [
    "inicio = [0, 1]\n",
    "for i in range(1, 9):\n",
    "    inicio.append(inicio[i] + inicio[i-1])\n",
    "print(inicio)\n",
    "    "
   ]
  },
  {
   "cell_type": "markdown",
   "id": "8fe6c516",
   "metadata": {},
   "source": [
    "Ejercicio #12 Escribir un programa que permite al usuario ingresar 6 números enteros, que pueden ser positivos o negativos. Al finalizar mostrar la sumatoria de los números negativos y el promedio de los positivos. No olvide que no es posible dividir por cero, por lo que es necesario evitar que el programa arroje un error si no se ingresaron números positivos. "
   ]
  },
  {
   "cell_type": "code",
   "execution_count": 25,
   "id": "a9609451",
   "metadata": {},
   "outputs": [
    {
     "name": "stdout",
     "output_type": "stream",
     "text": [
      "Ingrese seis números enteros: 2\n",
      "Ingrese seis números enteros: 0\n",
      "Ingrese seis números enteros: 2\n",
      "Ingrese seis números enteros: 0\n",
      "Ingrese seis números enteros: -78\n",
      "Ingrese seis números enteros: -10\n",
      "-88\n",
      "1.0\n"
     ]
    }
   ],
   "source": [
    "vectorPositivos= []\n",
    "vectorNegativos=[]\n",
    "n=0\n",
    "while n<6:\n",
    "    numeroIngresado=int(input(\"Ingrese seis números enteros: \"))\n",
    "    if numeroIngresado>=0:\n",
    "        vectorPositivos.append(numeroIngresado)\n",
    "    else:\n",
    "        vectorNegativos.append(numeroIngresado)\n",
    "    n+=1\n",
    "            \n",
    "sumatoriaNegativos=sum(vectorNegativos)\n",
    "promedioPositivos=sum(vectorPositivos)/len(vectorPositivos)\n",
    "print(sumatoriaNegativos)\n",
    "print(promedioPositivos)\n",
    "    "
   ]
  },
  {
   "cell_type": "markdown",
   "id": "4d23d9c8",
   "metadata": {},
   "source": [
    "Ejercicio #13 Crea un programa que invierta el orden de una cadena de textos  sin usar funciones propias del lenguaje que lo hagan de forma automática. "
   ]
  },
  {
   "cell_type": "code",
   "execution_count": 12,
   "id": "b2e11a98",
   "metadata": {},
   "outputs": [
    {
     "name": "stdout",
     "output_type": "stream",
     "text": [
      "Ingrese una frase: hola mundo\n",
      "odnum aloh\n"
     ]
    }
   ],
   "source": [
    "texto= input (\"Ingrese una frase: \")\n",
    "\n",
    "def invert (txt:str):\n",
    "    textoInvertido=\"\"\n",
    "    x= len(txt)\n",
    "    while x>= 1:\n",
    "        textoInvertido+= txt[x-1]\n",
    "        x-=1\n",
    "    print(textoInvertido)\n",
    "invert(texto)\n"
   ]
  },
  {
   "cell_type": "code",
   "execution_count": 10,
   "id": "7c6c8b90",
   "metadata": {},
   "outputs": [
    {
     "name": "stdout",
     "output_type": "stream",
     "text": [
      "Ingrese una frase: hola mundo\n",
      "['o', 'd', 'n', 'u', 'm', ' ', 'a', 'l', 'o', 'h']\n"
     ]
    }
   ],
   "source": [
    "texto = input(\"Ingrese una frase: \")\n",
    "nuevaLista=[]\n",
    "def invert (txt:str):\n",
    "    listaFrase= list(txt)\n",
    "    x=len(listaFrase)\n",
    "    while x >= 1:\n",
    "        nuevaLista.append(listaFrase[x - 1])\n",
    "        x = x - 1\n",
    "invert(texto)\n",
    "print(nuevaLista)\n",
    "\n"
   ]
  },
  {
   "cell_type": "markdown",
   "id": "4429287f",
   "metadata": {},
   "source": [
    "Ejercicio #14 Cree un programa que al recibir como datos dos números enteros, calcule la suma, resta y multiplicación de dichos números. "
   ]
  },
  {
   "cell_type": "code",
   "execution_count": 3,
   "id": "cba3e004",
   "metadata": {},
   "outputs": [
    {
     "name": "stdout",
     "output_type": "stream",
     "text": [
      "Ingrese el primer número entero: 8\n",
      "Ingrese el segundo número entero: 2\n",
      "10\n",
      "6\n",
      "16\n",
      "4.0\n"
     ]
    }
   ],
   "source": [
    "primerNumero=int(input(\"Ingrese el primer número entero: \"))\n",
    "segundoNumero= int(input(\"Ingrese el segundo número entero: \"))\n",
    "print(primerNumero+segundoNumero)\n",
    "print(primerNumero-segundoNumero)\n",
    "print(primerNumero*segundoNumero)\n",
    "print(primerNumero/segundoNumero)"
   ]
  },
  {
   "cell_type": "markdown",
   "id": "d8dda4b8",
   "metadata": {},
   "source": [
    "Ejercicio #15 Costruye un programa que al recibir como datos el costo de un articulo vendido y la cantidad de dinero entregada por el cliente, calcule:\n",
    "1. El cambio que se debe entregar al cliente, si el pago efectuado es mayor que el precio del producto.\n",
    "2. ¿Qué pasa si el cliente paga exactamente lo que vale el producto?\n",
    "3. La cantidad de dinero que falta por pagar, si el pago efectuado es menor que el precio del producto. "
   ]
  },
  {
   "cell_type": "code",
   "execution_count": 19,
   "id": "87335dec",
   "metadata": {},
   "outputs": [
    {
     "name": "stdout",
     "output_type": "stream",
     "text": [
      "ingrese el costo del articulo: 10.5\n",
      "ingrese el dinero entregado: 5\n",
      "Aún le faltan 5.5 pesos para cubrir el costo del articulo\n"
     ]
    }
   ],
   "source": [
    "costoArticulo=0\n",
    "dineroEntregado=0\n",
    "\n",
    "while costoArticulo <=0:\n",
    "    costoArticulo=float(input(\"ingrese el costo del articulo: \"))\n",
    "while dineroEntregado <=0:\n",
    "    dineroEntregado=float(input(\"ingrese el dinero entregado: \"))\n",
    "        \n",
    "if costoArticulo<dineroEntregado:\n",
    "\n",
    "    cambio=(dineroEntregado-costoArticulo)\n",
    "    print (f\"Su cambio es de {cambio} pesos\")\n",
    "if costoArticulo==dineroEntregado:\n",
    "    \n",
    "    print(\"Cantidad Exacta, no hay cambio\")\n",
    "if costoArticulo>dineroEntregado:\n",
    "    \n",
    "    dineroFaltante=(costoArticulo-dineroEntregado)\n",
    "    print(f\"Aún le faltan {dineroFaltante} pesos para cubrir el costo del articulo\")\n",
    "\n",
    "\n"
   ]
  },
  {
   "cell_type": "markdown",
   "id": "5ace3d57",
   "metadata": {},
   "source": [
    "Ejercicio # 16 Escribir un programa que pregunte el nombre del usuario en la consola y un número entero e imprima por pantalla en líneas distintas el nombre del usuario tantas veces como el número introducido."
   ]
  },
  {
   "cell_type": "code",
   "execution_count": 20,
   "id": "6d50ae24",
   "metadata": {},
   "outputs": [
    {
     "name": "stdout",
     "output_type": "stream",
     "text": [
      "Escriba su nombre: Arr\n",
      "Escriba un número entero5\n",
      "Arr\n",
      "Arr\n",
      "Arr\n",
      "Arr\n",
      "Arr\n"
     ]
    }
   ],
   "source": [
    "Name= input(\"Escriba su nombre: \")\n",
    "numRepName=int(input(\"Escriba un número entero\"))\n",
    "for i in range(numRepName):\n",
    "    print(Name)"
   ]
  },
  {
   "cell_type": "markdown",
   "id": "8b0b4227",
   "metadata": {},
   "source": [
    "Ejercicio #17 Escribir un programa que pregunte el nombre completo del usuario en la consola y después muestre por pantalla el nombre completo del usuario tres veces, una con todas las letras minúsculas, otra con todas las letras mayúsculas y otra solo con la primera letra del nombre y de los apellidos en mayúscula. El usuario puede introducir su nombre combinando mayúsculas y minúsculas como quiera."
   ]
  },
  {
   "cell_type": "code",
   "execution_count": 25,
   "id": "7da2ae65",
   "metadata": {},
   "outputs": [
    {
     "name": "stdout",
     "output_type": "stream",
     "text": [
      "Escriba sus nombres: Arley\n",
      "Escriba sus apellidos: Moreno \n",
      "arley moreno \n",
      "ARLEY MORENO \n",
      "Arley Moreno \n"
     ]
    }
   ],
   "source": [
    "names=input(\"Escriba sus nombres: \")\n",
    "lastNames=input(\"Escriba sus apellidos: \")\n",
    "\n",
    "print(names.lower()+\" \"+lastNames.lower())\n",
    "print(names.upper()+\" \"+lastNames.upper())\n",
    "print(names.title()+\" \"+lastNames.title())\n"
   ]
  },
  {
   "cell_type": "markdown",
   "id": "f078a2e5",
   "metadata": {},
   "source": [
    "Ejercicio #18 Escribir un programa que pregunte el nombre del usuario en la consola y después de que el usuario lo introduzca muestre por pantalla <NOMBRE> tiene <n> letras, donde <NOMBRE> es el nombre de usuario en mayúsculas y <n> es el número de letras que tienen el nombre."
   ]
  },
  {
   "cell_type": "code",
   "execution_count": 29,
   "id": "ffe1f301",
   "metadata": {},
   "outputs": [
    {
     "name": "stdout",
     "output_type": "stream",
     "text": [
      "Ingrese su nombre: Luigi\n",
      "<LUIGI> tiene <5> letras\n"
     ]
    }
   ],
   "source": [
    "nombre=input(\"Ingrese su nombre: \")\n",
    "numLetras= len(nombre)\n",
    "\n",
    "\n",
    "print(f\"<{nombre.upper()}> tiene <{numLetras}> letras\")"
   ]
  },
  {
   "cell_type": "markdown",
   "id": "72a452a6",
   "metadata": {},
   "source": [
    "Ejercicio #19 Una empresa registra los números de teléfono con el formato: prefijo-número-extension donde el prefijo es el código del país, y la extensión tiene dos dígitos (por ejemplo +34-913724710-56). Escribir un programa que pregunte (en una sola línea) por un número de teléfono con este formato y muestre por pantalla unicamente el número de teléfono sin el prefijo y sin la extensión.\n"
   ]
  },
  {
   "cell_type": "code",
   "execution_count": 17,
   "id": "f49a12bd",
   "metadata": {},
   "outputs": [
    {
     "name": "stdout",
     "output_type": "stream",
     "text": [
      "Ingrese el número de teléfono con el formato: +xx-xxxxxxxx-xx+34-5810847-28\n",
      "5810847\n"
     ]
    }
   ],
   "source": [
    "numeroTelCompleto=input(\"Ingrese el número de teléfono con el formato: +xx-xxxxxxxx-xx\")\n",
    "print(numeroTelCompleto[4:-3])\n",
    "\n",
    "\n",
    "\n"
   ]
  },
  {
   "cell_type": "markdown",
   "id": "c4842d52",
   "metadata": {},
   "source": [
    "Ejercicio #20 Escribir un programa que pida al usuario que introduzca una frase en la consola y muestre por pantalla la frase invertida."
   ]
  },
  {
   "cell_type": "code",
   "execution_count": 8,
   "id": "c4381c7b",
   "metadata": {},
   "outputs": [
    {
     "name": "stdout",
     "output_type": "stream",
     "text": [
      "Ingrese una frase de su preferencia: Erase una vez\n",
      "zev anu esarE\n"
     ]
    }
   ],
   "source": [
    "frase=input(\"Ingrese una frase de su preferencia: \")\n",
    "\n",
    "print(frase[::-1])"
   ]
  },
  {
   "cell_type": "markdown",
   "id": "02a49895",
   "metadata": {},
   "source": [
    "Ejercicio #21 Escribir un programa que pida al usuario que introduzca una frase en la consola y una vocal, y después muestre por pantalla la misma frase pero con la vocal introducida en mayúscula."
   ]
  },
  {
   "cell_type": "code",
   "execution_count": 11,
   "id": "d3eec89d",
   "metadata": {},
   "outputs": [
    {
     "name": "stdout",
     "output_type": "stream",
     "text": [
      "Ingrese una frase seguida de una vocal: El patito feo a\n",
      "El patito feo A\n"
     ]
    }
   ],
   "source": [
    "frase_vocal=input(\"Ingrese una frase seguida de una vocal: \")\n",
    "print(f\"{frase_vocal[:-2]} {frase_vocal[-1].upper()}\")"
   ]
  },
  {
   "cell_type": "markdown",
   "id": "fa273c0b",
   "metadata": {},
   "source": [
    "Ejercicio #22 Escribir un programa que pregunte el correo electrónico del usuario en la consola y muestre por pantalla otro correo electrónico con el mismo nombre (la parte delante de la arroba @) pero con dominio ceu.es.\n",
    "\n"
   ]
  },
  {
   "cell_type": "code",
   "execution_count": 15,
   "id": "4c84ebb7",
   "metadata": {},
   "outputs": [
    {
     "name": "stdout",
     "output_type": "stream",
     "text": [
      "Ingrese su correo electrónico: jilmer@gmail.com\n",
      "jilmer@ceus.es\n"
     ]
    }
   ],
   "source": [
    "correoElectronico= input(\"Ingrese su correo electrónico: \")\n",
    "usuario=correoElectronico.split(\"@\")\n",
    "print(f\"{usuario[0]}@ceus.es\")"
   ]
  },
  {
   "cell_type": "markdown",
   "id": "ff7d0b65",
   "metadata": {},
   "source": [
    "Ejercicio #23 Escribir un programa que pregunte por consola el precio de un producto en euros con dos decimales y muestre por pantalla el número de euros y el número de céntimos del precio introducido.\n"
   ]
  },
  {
   "cell_type": "code",
   "execution_count": 15,
   "id": "baa624ba",
   "metadata": {},
   "outputs": [
    {
     "name": "stdout",
     "output_type": "stream",
     "text": [
      "Ingrese el precio del producto: 78942.8798798797\n",
      "78942.87\n"
     ]
    }
   ],
   "source": [
    "precioProducto=input(\"Ingrese el precio del producto: \")\n",
    "precioSplit=precioProducto.split(\".\")\n",
    "\n",
    "\n",
    "print(f\"{precioSplit[0]}.{precioSplit[1][:2]}\")\n"
   ]
  },
  {
   "cell_type": "markdown",
   "id": "5879f15d",
   "metadata": {},
   "source": [
    "Ejercicio #24 Escribir un programa que pregunte al usuario la fecha de su nacimiento en formato dd/mm/aaaa y muestra por pantalla, el día, el mes y el año. Adaptar el programa anterior para que también funcione cuando el día o el mes se introduzcan con un solo carácter."
   ]
  },
  {
   "cell_type": "code",
   "execution_count": 19,
   "id": "59d2beb0",
   "metadata": {},
   "outputs": [
    {
     "name": "stdout",
     "output_type": "stream",
     "text": [
      "Ingrese su fecha de nacimiento en formato dd/mm/aaaa: 25/8/80\n",
      "25/8/80\n"
     ]
    }
   ],
   "source": [
    "fecha=input(\"Ingrese su fecha de nacimiento en formato dd/mm/aaaa: \")\n",
    "fechaSplit=fecha.split(\"/\")\n",
    "print(f\"{fechaSplit[0]}/{fechaSplit[1]}/{fechaSplit[2]}\")"
   ]
  },
  {
   "cell_type": "markdown",
   "id": "d94b683e",
   "metadata": {},
   "source": [
    "Ejercicio #25 Escribir un programa que pregunte por consola por los productos de una cesta de la compra, separados por comas, y muestre por pantalla cada uno de los productos en una línea distinta."
   ]
  },
  {
   "cell_type": "code",
   "execution_count": 2,
   "id": "4b7d4b09",
   "metadata": {},
   "outputs": [
    {
     "name": "stdout",
     "output_type": "stream",
     "text": [
      "Ingrese los productos de la cesta: zanahoria, tomate, bananas\n",
      "zanahoria\n",
      " tomate\n",
      " bananas\n"
     ]
    }
   ],
   "source": [
    "productosCesta=input(\"Ingrese los productos de la cesta: \")\n",
    "productosCestaSplit=productosCesta.split(\",\")\n",
    "for i in productosCestaSplit:\n",
    "    print(i)\n",
    "\n"
   ]
  },
  {
   "cell_type": "markdown",
   "id": "9aa1e4f2",
   "metadata": {},
   "source": [
    "Escribir un programa que pregunte al usuario su edad y muestre por pantalla si es mayor de edad o no.\n"
   ]
  },
  {
   "cell_type": "code",
   "execution_count": 3,
   "id": "8038028c",
   "metadata": {},
   "outputs": [
    {
     "name": "stdout",
     "output_type": "stream",
     "text": [
      "Ingrese su edad: 15\n",
      "Usted es menor de edad\n"
     ]
    }
   ],
   "source": [
    "edad=int(input(\"Ingrese su edad: \"))\n",
    "if edad>=18:\n",
    "    print(\"Usted es mayor de edad\")\n",
    "else:\n",
    "    print(\"Usted es menor de edad\")"
   ]
  },
  {
   "cell_type": "markdown",
   "id": "636a49b2",
   "metadata": {},
   "source": [
    "Escribir un programa que almacene la cadena de caracteres contraseña en una variable, pregunte al usuario por la contraseña e imprima por pantalla si la contraseña introducida por el usuario coincide con la guardada en la variable sin tener en cuenta mayúsculas y minúsculas."
   ]
  },
  {
   "cell_type": "code",
   "execution_count": 5,
   "id": "698b3236",
   "metadata": {},
   "outputs": [
    {
     "name": "stdout",
     "output_type": "stream",
     "text": [
      "Introduzca una contraseña: Pecas\n",
      "Verifique su contraseña: peCas\n",
      "!La contraseña es correcta\n"
     ]
    }
   ],
   "source": [
    "contraseña=input(\"Introduzca una contraseña: \")\n",
    "verifContra= input(\"Verifique su contraseña: \")\n",
    "\n",
    "if contraseña.lower() == verifContra.lower():\n",
    "    print(\"!La contraseña es correcta\")\n",
    "else:\n",
    "    print(\"La contraseña no coincide\")\n",
    "    "
   ]
  },
  {
   "cell_type": "code",
   "execution_count": null,
   "id": "304d5ec1",
   "metadata": {},
   "outputs": [],
   "source": []
  }
 ],
 "metadata": {
  "kernelspec": {
   "display_name": "Python 3 (ipykernel)",
   "language": "python",
   "name": "python3"
  },
  "language_info": {
   "codemirror_mode": {
    "name": "ipython",
    "version": 3
   },
   "file_extension": ".py",
   "mimetype": "text/x-python",
   "name": "python",
   "nbconvert_exporter": "python",
   "pygments_lexer": "ipython3",
   "version": "3.9.13"
  }
 },
 "nbformat": 4,
 "nbformat_minor": 5
}
