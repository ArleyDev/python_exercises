{
 "cells": [
  {
   "cell_type": "markdown",
   "id": "155365fe",
   "metadata": {},
   "source": [
    "Ejercicios de Python - Python Exercises\n"
   ]
  },
  {
   "cell_type": "markdown",
   "id": "b68dcd45",
   "metadata": {},
   "source": [
    "Ejercicio #1 Imprimir todos los digitos del 0 al 9, utilizando un bucle. Exercise #1 Print all the digits from 0 to 9 using a loop."
   ]
  },
  {
   "cell_type": "code",
   "execution_count": 5,
   "id": "92f7403d",
   "metadata": {},
   "outputs": [
    {
     "name": "stdout",
     "output_type": "stream",
     "text": [
      "0\n",
      "1\n",
      "2\n",
      "3\n",
      "4\n",
      "5\n",
      "6\n",
      "7\n",
      "8\n",
      "9\n"
     ]
    }
   ],
   "source": [
    "for i in range(0,10):\n",
    "    print(i)"
   ]
  },
  {
   "cell_type": "markdown",
   "id": "eed66ade",
   "metadata": {},
   "source": [
    "Ejercicio #2 Imprimir todos los números entre 100 y 199. Exercise #2 Print all the numbers from 100 to 199.\n"
   ]
  },
  {
   "cell_type": "code",
   "execution_count": 6,
   "id": "fac88b3a",
   "metadata": {},
   "outputs": [
    {
     "name": "stdout",
     "output_type": "stream",
     "text": [
      "195\n",
      "196\n",
      "197\n",
      "198\n",
      "199\n"
     ]
    }
   ],
   "source": [
    "for i in range(195,200):\n",
    "    print(i)"
   ]
  },
  {
   "cell_type": "markdown",
   "id": "6e996dad",
   "metadata": {},
   "source": [
    "Ejercicio #3 Imprimir los números entre el 5 y el 20, saltando de 3 en 3. Exercise #3 Print the numbers between 5 and 20, jumping 3 by 3."
   ]
  },
  {
   "cell_type": "code",
   "execution_count": 8,
   "id": "cf56d76b",
   "metadata": {},
   "outputs": [
    {
     "name": "stdout",
     "output_type": "stream",
     "text": [
      "[5, 8, 11, 14, 17, 20]\n"
     ]
    }
   ],
   "source": [
    "numbers= list(range(5,21))\n",
    "print(numbers[::3])"
   ]
  },
  {
   "cell_type": "markdown",
   "id": "02d72d2a",
   "metadata": {},
   "source": [
    "Requerir al usuario que ingrese un número entero positivo e imprimir todos los números consecutivos entre el ingresado por el usuario y uno menos del doble del mismo"
   ]
  },
  {
   "cell_type": "code",
   "execution_count": 11,
   "id": "4ac6eeb6",
   "metadata": {},
   "outputs": [
    {
     "name": "stdout",
     "output_type": "stream",
     "text": [
      "ingrese un número entero positivo3\n",
      "3\n",
      "4\n",
      "5\n",
      "6\n",
      "7\n",
      "8\n"
     ]
    }
   ],
   "source": [
    "number= int(input(\"ingrese un número entero positivo\"))\n",
    "SquaredNumber= number*number\n",
    "for i in range(number,SquaredNumber):\n",
    "    print(i)\n"
   ]
  },
  {
   "cell_type": "code",
   "execution_count": null,
   "id": "7956193d",
   "metadata": {},
   "outputs": [],
   "source": []
  }
 ],
 "metadata": {
  "kernelspec": {
   "display_name": "Python 3 (ipykernel)",
   "language": "python",
   "name": "python3"
  },
  "language_info": {
   "codemirror_mode": {
    "name": "ipython",
    "version": 3
   },
   "file_extension": ".py",
   "mimetype": "text/x-python",
   "name": "python",
   "nbconvert_exporter": "python",
   "pygments_lexer": "ipython3",
   "version": "3.9.13"
  }
 },
 "nbformat": 4,
 "nbformat_minor": 5
}
